{
  "nbformat": 4,
  "nbformat_minor": 0,
  "metadata": {
    "colab": {
      "name": "Population.ipynb",
      "provenance": [],
      "mount_file_id": "1lo5IcWHp-ZO5v5zZzJxcCROJfx1BIb5w",
      "authorship_tag": "ABX9TyNZIIeE81+shdhddKDU5k5w",
      "include_colab_link": true
    },
    "kernelspec": {
      "name": "python3",
      "display_name": "Python 3"
    },
    "language_info": {
      "name": "python"
    }
  },
  "cells": [
    {
      "cell_type": "markdown",
      "metadata": {
        "id": "view-in-github",
        "colab_type": "text"
      },
      "source": [
        "<a href=\"https://colab.research.google.com/github/Yamini584/Population-Clustering/blob/main/Population.ipynb\" target=\"_parent\"><img src=\"https://colab.research.google.com/assets/colab-badge.svg\" alt=\"Open In Colab\"/></a>"
      ]
    },
    {
      "cell_type": "code",
      "metadata": {
        "id": "WVZ0O69A6l8A"
      },
      "source": [
        "import pandas as pd\n",
        "df = pd.read_csv('/content/drive/MyDrive/Colab Notebooks/ML Practice/K-means example/Population_Data.csv')"
      ],
      "execution_count": 181,
      "outputs": []
    },
    {
      "cell_type": "code",
      "metadata": {
        "colab": {
          "base_uri": "https://localhost:8080/",
          "height": 202
        },
        "id": "f6EFl-SE_U2m",
        "outputId": "f4d34f83-09f3-4b71-a19f-8c70e5419337"
      },
      "source": [
        "df.head()"
      ],
      "execution_count": 182,
      "outputs": [
        {
          "output_type": "execute_result",
          "data": {
            "text/html": [
              "<div>\n",
              "<style scoped>\n",
              "    .dataframe tbody tr th:only-of-type {\n",
              "        vertical-align: middle;\n",
              "    }\n",
              "\n",
              "    .dataframe tbody tr th {\n",
              "        vertical-align: top;\n",
              "    }\n",
              "\n",
              "    .dataframe thead th {\n",
              "        text-align: right;\n",
              "    }\n",
              "</style>\n",
              "<table border=\"1\" class=\"dataframe\">\n",
              "  <thead>\n",
              "    <tr style=\"text-align: right;\">\n",
              "      <th></th>\n",
              "      <th>Region</th>\n",
              "      <th>Office Location Id</th>\n",
              "      <th>Indians</th>\n",
              "      <th>Foreigners</th>\n",
              "      <th>Indian_Male</th>\n",
              "      <th>Indian_Female</th>\n",
              "      <th>Foreigners_Male</th>\n",
              "      <th>Foreigners_Female</th>\n",
              "      <th>Total Population</th>\n",
              "    </tr>\n",
              "  </thead>\n",
              "  <tbody>\n",
              "    <tr>\n",
              "      <th>0</th>\n",
              "      <td>Region 31</td>\n",
              "      <td>1</td>\n",
              "      <td>6,43,596</td>\n",
              "      <td>28,83,782</td>\n",
              "      <td>4,40,445</td>\n",
              "      <td>2,03,151</td>\n",
              "      <td>27,63,718</td>\n",
              "      <td>72,515</td>\n",
              "      <td>35,27,378</td>\n",
              "    </tr>\n",
              "    <tr>\n",
              "      <th>1</th>\n",
              "      <td>Region 17</td>\n",
              "      <td>9</td>\n",
              "      <td>3,19,933</td>\n",
              "      <td>15,01,899</td>\n",
              "      <td>2,13,477</td>\n",
              "      <td>1,06,456</td>\n",
              "      <td>14,49,303</td>\n",
              "      <td>27,671</td>\n",
              "      <td>1821832</td>\n",
              "    </tr>\n",
              "    <tr>\n",
              "      <th>2</th>\n",
              "      <td>Region 12</td>\n",
              "      <td>4</td>\n",
              "      <td>1,94,379</td>\n",
              "      <td>6,50,744</td>\n",
              "      <td>1,61,803</td>\n",
              "      <td>32,576</td>\n",
              "      <td>6,31,660</td>\n",
              "      <td>10,652</td>\n",
              "      <td>845123</td>\n",
              "    </tr>\n",
              "    <tr>\n",
              "      <th>3</th>\n",
              "      <td>Region 22</td>\n",
              "      <td>15</td>\n",
              "      <td>1,07,360</td>\n",
              "      <td>4,70,708</td>\n",
              "      <td>85,343</td>\n",
              "      <td>22,017</td>\n",
              "      <td>4,50,267</td>\n",
              "      <td>6,389</td>\n",
              "      <td>578068</td>\n",
              "    </tr>\n",
              "    <tr>\n",
              "      <th>4</th>\n",
              "      <td>Region 23</td>\n",
              "      <td>13</td>\n",
              "      <td>55,351</td>\n",
              "      <td>3,29,980</td>\n",
              "      <td>31,796</td>\n",
              "      <td>23,555</td>\n",
              "      <td>3,25,105</td>\n",
              "      <td>3,684</td>\n",
              "      <td>385331</td>\n",
              "    </tr>\n",
              "  </tbody>\n",
              "</table>\n",
              "</div>"
            ],
            "text/plain": [
              "      Region  Office Location Id  ... Foreigners_Female Total Population\n",
              "0  Region 31                   1  ...            72,515        35,27,378\n",
              "1  Region 17                   9  ...            27,671          1821832\n",
              "2  Region 12                   4  ...            10,652           845123\n",
              "3  Region 22                  15  ...             6,389           578068\n",
              "4  Region 23                  13  ...             3,684           385331\n",
              "\n",
              "[5 rows x 9 columns]"
            ]
          },
          "metadata": {
            "tags": []
          },
          "execution_count": 182
        }
      ]
    },
    {
      "cell_type": "code",
      "metadata": {
        "colab": {
          "base_uri": "https://localhost:8080/"
        },
        "id": "9OeZHJQr_XIb",
        "outputId": "fa593b60-e5ea-4dee-db3c-96fbd17dfc51"
      },
      "source": [
        "df.info()"
      ],
      "execution_count": 183,
      "outputs": [
        {
          "output_type": "stream",
          "text": [
            "<class 'pandas.core.frame.DataFrame'>\n",
            "RangeIndex: 38 entries, 0 to 37\n",
            "Data columns (total 9 columns):\n",
            " #   Column              Non-Null Count  Dtype \n",
            "---  ------              --------------  ----- \n",
            " 0   Region              38 non-null     object\n",
            " 1   Office Location Id  38 non-null     int64 \n",
            " 2   Indians             38 non-null     object\n",
            " 3   Foreigners          38 non-null     object\n",
            " 4   Indian_Male         38 non-null     object\n",
            " 5   Indian_Female       38 non-null     object\n",
            " 6   Foreigners_Male     38 non-null     object\n",
            " 7   Foreigners_Female   38 non-null     object\n",
            " 8   Total Population    38 non-null     object\n",
            "dtypes: int64(1), object(8)\n",
            "memory usage: 2.8+ KB\n"
          ],
          "name": "stdout"
        }
      ]
    },
    {
      "cell_type": "code",
      "metadata": {
        "colab": {
          "base_uri": "https://localhost:8080/"
        },
        "id": "X2hX0G6O_bSs",
        "outputId": "f92d8b2b-d047-42ba-8000-2fbef296ba96"
      },
      "source": [
        "df['Region'].unique()"
      ],
      "execution_count": 184,
      "outputs": [
        {
          "output_type": "execute_result",
          "data": {
            "text/plain": [
              "array(['Region 31', 'Region 17', 'Region 12', 'Region 22', 'Region 23',\n",
              "       'Region 20', 'Region 1', 'Region 24', 'Region 11', 'Region 4',\n",
              "       'Region 37', 'Region 34', 'Region 18', 'Region 16', 'Region 25',\n",
              "       'Region 33', 'Region 5', 'Region 26', 'Region 15', 'Region 13',\n",
              "       'Region 21', 'Region 30', 'Region 9', 'Region 29', 'Region 19',\n",
              "       'Region 10', 'Region 27', 'Region 8', 'Region 2', 'Region 38',\n",
              "       'Region 36', 'Region 32', 'Region 6', 'Region 28', 'Region 7',\n",
              "       'Region 35', 'Region 14', 'Region 3'], dtype=object)"
            ]
          },
          "metadata": {
            "tags": []
          },
          "execution_count": 184
        }
      ]
    },
    {
      "cell_type": "code",
      "metadata": {
        "id": "_SIW_3YY_s92"
      },
      "source": [
        "import numpy as np\n",
        "Regionclmn=[]\n",
        "for i in list(df['Region'].unique()) :\n",
        "  i=int(i[7:])\n",
        "  Regionclmn.append(i)\n",
        "df['Region']=np.array(Regionclmn,dtype=int)"
      ],
      "execution_count": 185,
      "outputs": []
    },
    {
      "cell_type": "code",
      "metadata": {
        "colab": {
          "base_uri": "https://localhost:8080/"
        },
        "id": "AkJR6b89AlVU",
        "outputId": "a508de8a-f0c1-4954-9243-a34b504baf87"
      },
      "source": [
        "df['Region'].unique()"
      ],
      "execution_count": 186,
      "outputs": [
        {
          "output_type": "execute_result",
          "data": {
            "text/plain": [
              "array([31, 17, 12, 22, 23, 20,  1, 24, 11,  4, 37, 34, 18, 16, 25, 33,  5,\n",
              "       26, 15, 13, 21, 30,  9, 29, 19, 10, 27,  8,  2, 38, 36, 32,  6, 28,\n",
              "        7, 35, 14,  3])"
            ]
          },
          "metadata": {
            "tags": []
          },
          "execution_count": 186
        }
      ]
    },
    {
      "cell_type": "code",
      "metadata": {
        "id": "Dg3ZdujEAoK0"
      },
      "source": [
        "commaclmns = ['Indians' ,'Foreigners','Indian_Male',\t'Indian_Female' ,'Foreigners_Male','Foreigners_Female','Total Population']"
      ],
      "execution_count": 187,
      "outputs": []
    },
    {
      "cell_type": "code",
      "metadata": {
        "id": "jDufzcydEqqY"
      },
      "source": [
        "for i in df[commaclmns]:\n",
        "  df[i]=df[i].apply(lambda x : int(x.replace(',','')))"
      ],
      "execution_count": 188,
      "outputs": []
    },
    {
      "cell_type": "code",
      "metadata": {
        "colab": {
          "base_uri": "https://localhost:8080/",
          "height": 202
        },
        "id": "4qNja38DFR50",
        "outputId": "38a3d5c2-b697-49f7-ccb8-44efed71e100"
      },
      "source": [
        "df.head()"
      ],
      "execution_count": 189,
      "outputs": [
        {
          "output_type": "execute_result",
          "data": {
            "text/html": [
              "<div>\n",
              "<style scoped>\n",
              "    .dataframe tbody tr th:only-of-type {\n",
              "        vertical-align: middle;\n",
              "    }\n",
              "\n",
              "    .dataframe tbody tr th {\n",
              "        vertical-align: top;\n",
              "    }\n",
              "\n",
              "    .dataframe thead th {\n",
              "        text-align: right;\n",
              "    }\n",
              "</style>\n",
              "<table border=\"1\" class=\"dataframe\">\n",
              "  <thead>\n",
              "    <tr style=\"text-align: right;\">\n",
              "      <th></th>\n",
              "      <th>Region</th>\n",
              "      <th>Office Location Id</th>\n",
              "      <th>Indians</th>\n",
              "      <th>Foreigners</th>\n",
              "      <th>Indian_Male</th>\n",
              "      <th>Indian_Female</th>\n",
              "      <th>Foreigners_Male</th>\n",
              "      <th>Foreigners_Female</th>\n",
              "      <th>Total Population</th>\n",
              "    </tr>\n",
              "  </thead>\n",
              "  <tbody>\n",
              "    <tr>\n",
              "      <th>0</th>\n",
              "      <td>31</td>\n",
              "      <td>1</td>\n",
              "      <td>643596</td>\n",
              "      <td>2883782</td>\n",
              "      <td>440445</td>\n",
              "      <td>203151</td>\n",
              "      <td>2763718</td>\n",
              "      <td>72515</td>\n",
              "      <td>3527378</td>\n",
              "    </tr>\n",
              "    <tr>\n",
              "      <th>1</th>\n",
              "      <td>17</td>\n",
              "      <td>9</td>\n",
              "      <td>319933</td>\n",
              "      <td>1501899</td>\n",
              "      <td>213477</td>\n",
              "      <td>106456</td>\n",
              "      <td>1449303</td>\n",
              "      <td>27671</td>\n",
              "      <td>1821832</td>\n",
              "    </tr>\n",
              "    <tr>\n",
              "      <th>2</th>\n",
              "      <td>12</td>\n",
              "      <td>4</td>\n",
              "      <td>194379</td>\n",
              "      <td>650744</td>\n",
              "      <td>161803</td>\n",
              "      <td>32576</td>\n",
              "      <td>631660</td>\n",
              "      <td>10652</td>\n",
              "      <td>845123</td>\n",
              "    </tr>\n",
              "    <tr>\n",
              "      <th>3</th>\n",
              "      <td>22</td>\n",
              "      <td>15</td>\n",
              "      <td>107360</td>\n",
              "      <td>470708</td>\n",
              "      <td>85343</td>\n",
              "      <td>22017</td>\n",
              "      <td>450267</td>\n",
              "      <td>6389</td>\n",
              "      <td>578068</td>\n",
              "    </tr>\n",
              "    <tr>\n",
              "      <th>4</th>\n",
              "      <td>23</td>\n",
              "      <td>13</td>\n",
              "      <td>55351</td>\n",
              "      <td>329980</td>\n",
              "      <td>31796</td>\n",
              "      <td>23555</td>\n",
              "      <td>325105</td>\n",
              "      <td>3684</td>\n",
              "      <td>385331</td>\n",
              "    </tr>\n",
              "  </tbody>\n",
              "</table>\n",
              "</div>"
            ],
            "text/plain": [
              "   Region  Office Location Id  ...  Foreigners_Female  Total Population\n",
              "0      31                   1  ...              72515           3527378\n",
              "1      17                   9  ...              27671           1821832\n",
              "2      12                   4  ...              10652            845123\n",
              "3      22                  15  ...               6389            578068\n",
              "4      23                  13  ...               3684            385331\n",
              "\n",
              "[5 rows x 9 columns]"
            ]
          },
          "metadata": {
            "tags": []
          },
          "execution_count": 189
        }
      ]
    },
    {
      "cell_type": "code",
      "metadata": {
        "colab": {
          "base_uri": "https://localhost:8080/"
        },
        "id": "nfM6BV4tGD91",
        "outputId": "1fc437f2-52db-4e4e-f93d-dc4d2ccb382c"
      },
      "source": [
        "df.info()"
      ],
      "execution_count": 190,
      "outputs": [
        {
          "output_type": "stream",
          "text": [
            "<class 'pandas.core.frame.DataFrame'>\n",
            "RangeIndex: 38 entries, 0 to 37\n",
            "Data columns (total 9 columns):\n",
            " #   Column              Non-Null Count  Dtype\n",
            "---  ------              --------------  -----\n",
            " 0   Region              38 non-null     int64\n",
            " 1   Office Location Id  38 non-null     int64\n",
            " 2   Indians             38 non-null     int64\n",
            " 3   Foreigners          38 non-null     int64\n",
            " 4   Indian_Male         38 non-null     int64\n",
            " 5   Indian_Female       38 non-null     int64\n",
            " 6   Foreigners_Male     38 non-null     int64\n",
            " 7   Foreigners_Female   38 non-null     int64\n",
            " 8   Total Population    38 non-null     int64\n",
            "dtypes: int64(9)\n",
            "memory usage: 2.8 KB\n"
          ],
          "name": "stdout"
        }
      ]
    },
    {
      "cell_type": "code",
      "metadata": {
        "id": "6vMUIHBSGNJn"
      },
      "source": [
        "df['Indian_others'] = df['Indians'] - (df['Indian_Male'] + df['Indian_Female'])\n",
        "df['Foriegner_others'] = df['Foreigners'] - (df['Foreigners_Male'] + df['Foreigners_Female'])\n",
        "#df['Total_others'] = df['Total Population'] - (df['Indians'] + df['Foreigners']) = 0"
      ],
      "execution_count": 191,
      "outputs": []
    },
    {
      "cell_type": "code",
      "metadata": {
        "colab": {
          "base_uri": "https://localhost:8080/",
          "height": 237
        },
        "id": "JShvyjjuHsSR",
        "outputId": "fee896ad-ae09-4013-d1f1-0ae2dac7280a"
      },
      "source": [
        "df.head()"
      ],
      "execution_count": 192,
      "outputs": [
        {
          "output_type": "execute_result",
          "data": {
            "text/html": [
              "<div>\n",
              "<style scoped>\n",
              "    .dataframe tbody tr th:only-of-type {\n",
              "        vertical-align: middle;\n",
              "    }\n",
              "\n",
              "    .dataframe tbody tr th {\n",
              "        vertical-align: top;\n",
              "    }\n",
              "\n",
              "    .dataframe thead th {\n",
              "        text-align: right;\n",
              "    }\n",
              "</style>\n",
              "<table border=\"1\" class=\"dataframe\">\n",
              "  <thead>\n",
              "    <tr style=\"text-align: right;\">\n",
              "      <th></th>\n",
              "      <th>Region</th>\n",
              "      <th>Office Location Id</th>\n",
              "      <th>Indians</th>\n",
              "      <th>Foreigners</th>\n",
              "      <th>Indian_Male</th>\n",
              "      <th>Indian_Female</th>\n",
              "      <th>Foreigners_Male</th>\n",
              "      <th>Foreigners_Female</th>\n",
              "      <th>Total Population</th>\n",
              "      <th>Indian_others</th>\n",
              "      <th>Foriegner_others</th>\n",
              "    </tr>\n",
              "  </thead>\n",
              "  <tbody>\n",
              "    <tr>\n",
              "      <th>0</th>\n",
              "      <td>31</td>\n",
              "      <td>1</td>\n",
              "      <td>643596</td>\n",
              "      <td>2883782</td>\n",
              "      <td>440445</td>\n",
              "      <td>203151</td>\n",
              "      <td>2763718</td>\n",
              "      <td>72515</td>\n",
              "      <td>3527378</td>\n",
              "      <td>0</td>\n",
              "      <td>47549</td>\n",
              "    </tr>\n",
              "    <tr>\n",
              "      <th>1</th>\n",
              "      <td>17</td>\n",
              "      <td>9</td>\n",
              "      <td>319933</td>\n",
              "      <td>1501899</td>\n",
              "      <td>213477</td>\n",
              "      <td>106456</td>\n",
              "      <td>1449303</td>\n",
              "      <td>27671</td>\n",
              "      <td>1821832</td>\n",
              "      <td>0</td>\n",
              "      <td>24925</td>\n",
              "    </tr>\n",
              "    <tr>\n",
              "      <th>2</th>\n",
              "      <td>12</td>\n",
              "      <td>4</td>\n",
              "      <td>194379</td>\n",
              "      <td>650744</td>\n",
              "      <td>161803</td>\n",
              "      <td>32576</td>\n",
              "      <td>631660</td>\n",
              "      <td>10652</td>\n",
              "      <td>845123</td>\n",
              "      <td>0</td>\n",
              "      <td>8432</td>\n",
              "    </tr>\n",
              "    <tr>\n",
              "      <th>3</th>\n",
              "      <td>22</td>\n",
              "      <td>15</td>\n",
              "      <td>107360</td>\n",
              "      <td>470708</td>\n",
              "      <td>85343</td>\n",
              "      <td>22017</td>\n",
              "      <td>450267</td>\n",
              "      <td>6389</td>\n",
              "      <td>578068</td>\n",
              "      <td>0</td>\n",
              "      <td>14052</td>\n",
              "    </tr>\n",
              "    <tr>\n",
              "      <th>4</th>\n",
              "      <td>23</td>\n",
              "      <td>13</td>\n",
              "      <td>55351</td>\n",
              "      <td>329980</td>\n",
              "      <td>31796</td>\n",
              "      <td>23555</td>\n",
              "      <td>325105</td>\n",
              "      <td>3684</td>\n",
              "      <td>385331</td>\n",
              "      <td>0</td>\n",
              "      <td>1191</td>\n",
              "    </tr>\n",
              "  </tbody>\n",
              "</table>\n",
              "</div>"
            ],
            "text/plain": [
              "   Region  Office Location Id  ...  Indian_others  Foriegner_others\n",
              "0      31                   1  ...              0             47549\n",
              "1      17                   9  ...              0             24925\n",
              "2      12                   4  ...              0              8432\n",
              "3      22                  15  ...              0             14052\n",
              "4      23                  13  ...              0              1191\n",
              "\n",
              "[5 rows x 11 columns]"
            ]
          },
          "metadata": {
            "tags": []
          },
          "execution_count": 192
        }
      ]
    },
    {
      "cell_type": "code",
      "metadata": {
        "id": "zFldhUSJIY1T"
      },
      "source": [
        "df.drop(columns=['Region','Office Location Id'],inplace=True)"
      ],
      "execution_count": 193,
      "outputs": []
    },
    {
      "cell_type": "code",
      "metadata": {
        "colab": {
          "base_uri": "https://localhost:8080/",
          "height": 202
        },
        "id": "k2cr5lCvJBhG",
        "outputId": "75a4ae5e-8471-4167-aeda-7e46409ce3a2"
      },
      "source": [
        "df.head()"
      ],
      "execution_count": 194,
      "outputs": [
        {
          "output_type": "execute_result",
          "data": {
            "text/html": [
              "<div>\n",
              "<style scoped>\n",
              "    .dataframe tbody tr th:only-of-type {\n",
              "        vertical-align: middle;\n",
              "    }\n",
              "\n",
              "    .dataframe tbody tr th {\n",
              "        vertical-align: top;\n",
              "    }\n",
              "\n",
              "    .dataframe thead th {\n",
              "        text-align: right;\n",
              "    }\n",
              "</style>\n",
              "<table border=\"1\" class=\"dataframe\">\n",
              "  <thead>\n",
              "    <tr style=\"text-align: right;\">\n",
              "      <th></th>\n",
              "      <th>Indians</th>\n",
              "      <th>Foreigners</th>\n",
              "      <th>Indian_Male</th>\n",
              "      <th>Indian_Female</th>\n",
              "      <th>Foreigners_Male</th>\n",
              "      <th>Foreigners_Female</th>\n",
              "      <th>Total Population</th>\n",
              "      <th>Indian_others</th>\n",
              "      <th>Foriegner_others</th>\n",
              "    </tr>\n",
              "  </thead>\n",
              "  <tbody>\n",
              "    <tr>\n",
              "      <th>0</th>\n",
              "      <td>643596</td>\n",
              "      <td>2883782</td>\n",
              "      <td>440445</td>\n",
              "      <td>203151</td>\n",
              "      <td>2763718</td>\n",
              "      <td>72515</td>\n",
              "      <td>3527378</td>\n",
              "      <td>0</td>\n",
              "      <td>47549</td>\n",
              "    </tr>\n",
              "    <tr>\n",
              "      <th>1</th>\n",
              "      <td>319933</td>\n",
              "      <td>1501899</td>\n",
              "      <td>213477</td>\n",
              "      <td>106456</td>\n",
              "      <td>1449303</td>\n",
              "      <td>27671</td>\n",
              "      <td>1821832</td>\n",
              "      <td>0</td>\n",
              "      <td>24925</td>\n",
              "    </tr>\n",
              "    <tr>\n",
              "      <th>2</th>\n",
              "      <td>194379</td>\n",
              "      <td>650744</td>\n",
              "      <td>161803</td>\n",
              "      <td>32576</td>\n",
              "      <td>631660</td>\n",
              "      <td>10652</td>\n",
              "      <td>845123</td>\n",
              "      <td>0</td>\n",
              "      <td>8432</td>\n",
              "    </tr>\n",
              "    <tr>\n",
              "      <th>3</th>\n",
              "      <td>107360</td>\n",
              "      <td>470708</td>\n",
              "      <td>85343</td>\n",
              "      <td>22017</td>\n",
              "      <td>450267</td>\n",
              "      <td>6389</td>\n",
              "      <td>578068</td>\n",
              "      <td>0</td>\n",
              "      <td>14052</td>\n",
              "    </tr>\n",
              "    <tr>\n",
              "      <th>4</th>\n",
              "      <td>55351</td>\n",
              "      <td>329980</td>\n",
              "      <td>31796</td>\n",
              "      <td>23555</td>\n",
              "      <td>325105</td>\n",
              "      <td>3684</td>\n",
              "      <td>385331</td>\n",
              "      <td>0</td>\n",
              "      <td>1191</td>\n",
              "    </tr>\n",
              "  </tbody>\n",
              "</table>\n",
              "</div>"
            ],
            "text/plain": [
              "   Indians  Foreigners  ...  Indian_others  Foriegner_others\n",
              "0   643596     2883782  ...              0             47549\n",
              "1   319933     1501899  ...              0             24925\n",
              "2   194379      650744  ...              0              8432\n",
              "3   107360      470708  ...              0             14052\n",
              "4    55351      329980  ...              0              1191\n",
              "\n",
              "[5 rows x 9 columns]"
            ]
          },
          "metadata": {
            "tags": []
          },
          "execution_count": 194
        }
      ]
    },
    {
      "cell_type": "markdown",
      "metadata": {
        "id": "q3J-HPMfJG_S"
      },
      "source": [
        "Normalization"
      ]
    },
    {
      "cell_type": "code",
      "metadata": {
        "id": "yP_IZLEGJDDD"
      },
      "source": [
        "def percentage_converter(data, total, columns):\n",
        "    '''\n",
        "    expresses the other columns as percentage of the total column\n",
        "    '''\n",
        "    for i in columns:\n",
        "        data[i] = data[i]/data['Total Population']\n",
        "        \n",
        "    return data.drop(columns=['Total Population'])\n",
        "df = percentage_converter(df,'Total Population', df.drop(columns=['Total Population']).columns)"
      ],
      "execution_count": 195,
      "outputs": []
    },
    {
      "cell_type": "code",
      "metadata": {
        "colab": {
          "base_uri": "https://localhost:8080/",
          "height": 202
        },
        "id": "fJ3aMW0QJlDn",
        "outputId": "68dc67cf-9de8-4f4f-9d06-a3c06cff7df7"
      },
      "source": [
        "df.head()"
      ],
      "execution_count": 196,
      "outputs": [
        {
          "output_type": "execute_result",
          "data": {
            "text/html": [
              "<div>\n",
              "<style scoped>\n",
              "    .dataframe tbody tr th:only-of-type {\n",
              "        vertical-align: middle;\n",
              "    }\n",
              "\n",
              "    .dataframe tbody tr th {\n",
              "        vertical-align: top;\n",
              "    }\n",
              "\n",
              "    .dataframe thead th {\n",
              "        text-align: right;\n",
              "    }\n",
              "</style>\n",
              "<table border=\"1\" class=\"dataframe\">\n",
              "  <thead>\n",
              "    <tr style=\"text-align: right;\">\n",
              "      <th></th>\n",
              "      <th>Indians</th>\n",
              "      <th>Foreigners</th>\n",
              "      <th>Indian_Male</th>\n",
              "      <th>Indian_Female</th>\n",
              "      <th>Foreigners_Male</th>\n",
              "      <th>Foreigners_Female</th>\n",
              "      <th>Indian_others</th>\n",
              "      <th>Foriegner_others</th>\n",
              "    </tr>\n",
              "  </thead>\n",
              "  <tbody>\n",
              "    <tr>\n",
              "      <th>0</th>\n",
              "      <td>0.182457</td>\n",
              "      <td>0.817543</td>\n",
              "      <td>0.124865</td>\n",
              "      <td>0.057593</td>\n",
              "      <td>0.783505</td>\n",
              "      <td>0.020558</td>\n",
              "      <td>0.0</td>\n",
              "      <td>0.013480</td>\n",
              "    </tr>\n",
              "    <tr>\n",
              "      <th>1</th>\n",
              "      <td>0.175611</td>\n",
              "      <td>0.824389</td>\n",
              "      <td>0.117177</td>\n",
              "      <td>0.058433</td>\n",
              "      <td>0.795520</td>\n",
              "      <td>0.015189</td>\n",
              "      <td>0.0</td>\n",
              "      <td>0.013681</td>\n",
              "    </tr>\n",
              "    <tr>\n",
              "      <th>2</th>\n",
              "      <td>0.230001</td>\n",
              "      <td>0.769999</td>\n",
              "      <td>0.191455</td>\n",
              "      <td>0.038546</td>\n",
              "      <td>0.747418</td>\n",
              "      <td>0.012604</td>\n",
              "      <td>0.0</td>\n",
              "      <td>0.009977</td>\n",
              "    </tr>\n",
              "    <tr>\n",
              "      <th>3</th>\n",
              "      <td>0.185722</td>\n",
              "      <td>0.814278</td>\n",
              "      <td>0.147635</td>\n",
              "      <td>0.038087</td>\n",
              "      <td>0.778917</td>\n",
              "      <td>0.011052</td>\n",
              "      <td>0.0</td>\n",
              "      <td>0.024309</td>\n",
              "    </tr>\n",
              "    <tr>\n",
              "      <th>4</th>\n",
              "      <td>0.143645</td>\n",
              "      <td>0.856355</td>\n",
              "      <td>0.082516</td>\n",
              "      <td>0.061129</td>\n",
              "      <td>0.843703</td>\n",
              "      <td>0.009561</td>\n",
              "      <td>0.0</td>\n",
              "      <td>0.003091</td>\n",
              "    </tr>\n",
              "  </tbody>\n",
              "</table>\n",
              "</div>"
            ],
            "text/plain": [
              "    Indians  Foreigners  ...  Indian_others  Foriegner_others\n",
              "0  0.182457    0.817543  ...            0.0          0.013480\n",
              "1  0.175611    0.824389  ...            0.0          0.013681\n",
              "2  0.230001    0.769999  ...            0.0          0.009977\n",
              "3  0.185722    0.814278  ...            0.0          0.024309\n",
              "4  0.143645    0.856355  ...            0.0          0.003091\n",
              "\n",
              "[5 rows x 8 columns]"
            ]
          },
          "metadata": {
            "tags": []
          },
          "execution_count": 196
        }
      ]
    },
    {
      "cell_type": "markdown",
      "metadata": {
        "id": "YixsoROsJ8rk"
      },
      "source": [
        "K-Means Clustering"
      ]
    },
    {
      "cell_type": "code",
      "metadata": {
        "id": "HMYNoZorJ5uk"
      },
      "source": [
        "from sklearn.cluster import KMeans\n",
        "inertia = []\n",
        "for cluster in range(1,10):\n",
        "    kmeans = KMeans(n_jobs = -1, n_clusters = cluster) #n_clusters - no. of clusters\n",
        "    kmeans.fit(df)\n",
        "    inertia.append(kmeans.inertia_)"
      ],
      "execution_count": 197,
      "outputs": []
    },
    {
      "cell_type": "code",
      "metadata": {
        "id": "m1I-Qu3bOHW5"
      },
      "source": [
        "frame = pd.DataFrame({'Cluster':range(1,10), 'Inertia':inertia}) #New dataframe"
      ],
      "execution_count": 198,
      "outputs": []
    },
    {
      "cell_type": "code",
      "metadata": {
        "colab": {
          "base_uri": "https://localhost:8080/",
          "height": 202
        },
        "id": "okjB9H_gOk-J",
        "outputId": "c0dae66a-1224-48cd-f770-fce303b73378"
      },
      "source": [
        "frame.head()"
      ],
      "execution_count": 199,
      "outputs": [
        {
          "output_type": "execute_result",
          "data": {
            "text/html": [
              "<div>\n",
              "<style scoped>\n",
              "    .dataframe tbody tr th:only-of-type {\n",
              "        vertical-align: middle;\n",
              "    }\n",
              "\n",
              "    .dataframe tbody tr th {\n",
              "        vertical-align: top;\n",
              "    }\n",
              "\n",
              "    .dataframe thead th {\n",
              "        text-align: right;\n",
              "    }\n",
              "</style>\n",
              "<table border=\"1\" class=\"dataframe\">\n",
              "  <thead>\n",
              "    <tr style=\"text-align: right;\">\n",
              "      <th></th>\n",
              "      <th>Cluster</th>\n",
              "      <th>Inertia</th>\n",
              "    </tr>\n",
              "  </thead>\n",
              "  <tbody>\n",
              "    <tr>\n",
              "      <th>0</th>\n",
              "      <td>1</td>\n",
              "      <td>0.158124</td>\n",
              "    </tr>\n",
              "    <tr>\n",
              "      <th>1</th>\n",
              "      <td>2</td>\n",
              "      <td>0.057986</td>\n",
              "    </tr>\n",
              "    <tr>\n",
              "      <th>2</th>\n",
              "      <td>3</td>\n",
              "      <td>0.036128</td>\n",
              "    </tr>\n",
              "    <tr>\n",
              "      <th>3</th>\n",
              "      <td>4</td>\n",
              "      <td>0.024685</td>\n",
              "    </tr>\n",
              "    <tr>\n",
              "      <th>4</th>\n",
              "      <td>5</td>\n",
              "      <td>0.019121</td>\n",
              "    </tr>\n",
              "  </tbody>\n",
              "</table>\n",
              "</div>"
            ],
            "text/plain": [
              "   Cluster   Inertia\n",
              "0        1  0.158124\n",
              "1        2  0.057986\n",
              "2        3  0.036128\n",
              "3        4  0.024685\n",
              "4        5  0.019121"
            ]
          },
          "metadata": {
            "tags": []
          },
          "execution_count": 199
        }
      ]
    },
    {
      "cell_type": "code",
      "metadata": {
        "colab": {
          "base_uri": "https://localhost:8080/"
        },
        "id": "OtEuW7CdOmhQ",
        "outputId": "bf3208ce-858c-4d13-b453-6805fd618c42"
      },
      "source": [
        "frame.info()"
      ],
      "execution_count": 200,
      "outputs": [
        {
          "output_type": "stream",
          "text": [
            "<class 'pandas.core.frame.DataFrame'>\n",
            "RangeIndex: 9 entries, 0 to 8\n",
            "Data columns (total 2 columns):\n",
            " #   Column   Non-Null Count  Dtype  \n",
            "---  ------   --------------  -----  \n",
            " 0   Cluster  9 non-null      int64  \n",
            " 1   Inertia  9 non-null      float64\n",
            "dtypes: float64(1), int64(1)\n",
            "memory usage: 272.0 bytes\n"
          ],
          "name": "stdout"
        }
      ]
    },
    {
      "cell_type": "code",
      "metadata": {
        "colab": {
          "base_uri": "https://localhost:8080/",
          "height": 405
        },
        "id": "wF-Q6dk5OqNr",
        "outputId": "fa758b1f-7a5e-42e7-b490-5cff865c80d0"
      },
      "source": [
        "#Elbow curve\n",
        "import matplotlib.pyplot as plt\n",
        "plt.figure(figsize=(12,6))\n",
        "plt.plot(frame['Cluster'], frame['Inertia'], marker='o')\n",
        "plt.xlabel('Number of clusters')\n",
        "plt.ylabel('Inertia')"
      ],
      "execution_count": 201,
      "outputs": [
        {
          "output_type": "execute_result",
          "data": {
            "text/plain": [
              "Text(0, 0.5, 'Inertia')"
            ]
          },
          "metadata": {
            "tags": []
          },
          "execution_count": 201
        },
        {
          "output_type": "display_data",
          "data": {
            "image/png": "[encoded data removed]",
            "text/plain": [
              "<Figure size 864x432 with 1 Axes>"
            ]
          },
          "metadata": {
            "tags": [],
            "needs_background": "light"
          }
        }
      ]
    },
    {
      "cell_type": "code",
      "metadata": {
        "id": "bhtAs6MgO0Xn"
      },
      "source": [
        "#K-Means = 2"
      ],
      "execution_count": 202,
      "outputs": []
    }
  ]
}